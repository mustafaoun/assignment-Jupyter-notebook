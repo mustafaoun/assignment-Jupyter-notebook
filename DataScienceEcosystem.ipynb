{
 "cells": [
  {
   "cell_type": "markdown",
   "id": "bffc1067-c3f6-4b1f-a33c-19603e40da7e",
   "metadata": {},
   "source": [
    "Data Science Tools and Ecosystem"
   ]
  },
  {
   "cell_type": "markdown",
   "id": "13ee90bd-684c-44f5-9feb-b28302ddb672",
   "metadata": {},
   "source": [
    "In this notebook, Data Science Tools and Ecosystem are summarized."
   ]
  },
  {
   "cell_type": "markdown",
   "id": "06ba0c72-5232-4c8b-821d-339e94b58180",
   "metadata": {},
   "source": [
    "**Objectives:**\n",
    "1. Some of the popular languages that Data Scientists use.\n",
    "2. Some of the commonly used libraries used by Data Scientists.\n",
    "3. Data Science Tools.\n",
    "4. a few examples of evaluating arithmetic expressions in Python."
   ]
  },
  {
   "cell_type": "markdown",
   "id": "bf28564e-d224-4298-8850-a372939d0182",
   "metadata": {},
   "source": [
    "Some of the popular languages that Data Scientists use are:"
   ]
  },
  {
   "cell_type": "markdown",
   "id": "f554b765-ba88-4a17-8413-6660cf454d37",
   "metadata": {},
   "source": [
    "1. Python\n",
    "2. R\n",
    "3. SQL"
   ]
  },
  {
   "cell_type": "markdown",
   "id": "ea065770-bcd5-42b3-903a-7947fc638f89",
   "metadata": {},
   "source": [
    "Some of the commonly used libraries used by Data Scientists include:"
   ]
  },
  {
   "cell_type": "markdown",
   "id": "ed5e75a7-b3a4-4542-a1f6-cf3ccf412f1e",
   "metadata": {},
   "source": [
    "1. numpy\n",
    "2. pandas\n",
    "3. matplotlib"
   ]
  },
  {
   "cell_type": "markdown",
   "id": "974a9fe5-c817-43fd-87f8-7b3f5486b126",
   "metadata": {},
   "source": [
    "|Data Science Tools|\n",
    "--------------------\n",
    "|Jupyter Notebook|\n",
    "|RStudio|\n",
    "|Visual Studio Code|"
   ]
  },
  {
   "cell_type": "markdown",
   "id": "0cb431ef-b97d-4138-ab56-622e78fc006d",
   "metadata": {},
   "source": [
    "Below are a few examples of evaluating arithmetic expressions in Python"
   ]
  },
  {
   "cell_type": "markdown",
   "id": "9e2374e7-69c8-4172-a571-c86af31f5460",
   "metadata": {},
   "source": [
    "This a simple arithmetic expression to mutiply then add integers"
   ]
  },
  {
   "cell_type": "code",
   "execution_count": 7,
   "id": "c73f381f-b756-4f0c-bfc9-e88db15bbfcd",
   "metadata": {},
   "outputs": [
    {
     "data": {
      "text/plain": [
       "17"
      ]
     },
     "execution_count": 7,
     "metadata": {},
     "output_type": "execute_result"
    }
   ],
   "source": [
    "(3*4)+5"
   ]
  },
  {
   "cell_type": "markdown",
   "id": "a218e0ce-d8b2-4937-bdf2-48a74ad1418c",
   "metadata": {},
   "source": [
    "This will convert 200 minutes to hours by diving by 60"
   ]
  },
  {
   "cell_type": "code",
   "execution_count": 8,
   "id": "26ffa32d-40dc-4c23-9ed6-a60b016dee2d",
   "metadata": {},
   "outputs": [
    {
     "name": "stdout",
     "output_type": "stream",
     "text": [
      "3.3333333333333335\n"
     ]
    }
   ],
   "source": [
    "hour=60\n",
    "minutes=200\n",
    "minutesinhours = minutes/hour\n",
    "print(minutesinhours)"
   ]
  },
  {
   "cell_type": "markdown",
   "id": "8e771d9f-0e29-4106-924b-29e861013eab",
   "metadata": {},
   "source": [
    "## Author\n",
    "\n",
    "Mustafa Ahmed Oun"
   ]
  }
 ],
 "metadata": {
  "kernelspec": {
   "display_name": "Python 3 (ipykernel)",
   "language": "python",
   "name": "python3"
  },
  "language_info": {
   "codemirror_mode": {
    "name": "ipython",
    "version": 3
   },
   "file_extension": ".py",
   "mimetype": "text/x-python",
   "name": "python",
   "nbconvert_exporter": "python",
   "pygments_lexer": "ipython3",
   "version": "3.11.7"
  }
 },
 "nbformat": 4,
 "nbformat_minor": 5
}
